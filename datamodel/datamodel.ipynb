{
 "cells": [
  {
   "cell_type": "code",
   "execution_count": null,
   "metadata": {},
   "outputs": [],
   "source": [
    "# example 1 : a deck as a sequence of cards\n",
    "\n",
    "\n",
    "import collections\n",
    "Card=collections.namedtuple('card',['rank','suit'])\n",
    "\n",
    "class Frenchdeck:\n",
    "    ranks=[str(n) for i in range (2,11)+list('JQKA')]\n",
    "    suits='spades diamonds clubs hearts'.spliit()\n",
    "    def __init__(self):\n",
    "        "
   ]
  }
 ],
 "metadata": {
  "language_info": {
   "name": "python"
  },
  "orig_nbformat": 4
 },
 "nbformat": 4,
 "nbformat_minor": 2
}
